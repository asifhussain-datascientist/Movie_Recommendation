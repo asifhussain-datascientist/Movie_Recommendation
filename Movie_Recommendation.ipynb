{
 "cells": [
  {
   "cell_type": "code",
   "execution_count": 19,
   "id": "6cb54edb-8e53-4c73-8be3-06762faf9e43",
   "metadata": {},
   "outputs": [],
   "source": [
    "from sklearn.feature_extraction.text import CountVectorizer\n",
    "from sklearn.metrics.pairwise import cosine_similarity"
   ]
  },
  {
   "cell_type": "markdown",
   "id": "e13b5b2e-96ab-491b-ac0f-4421ea085ab6",
   "metadata": {},
   "source": [
    "count_matrix gives us a sparse matrix. To make it in human readable form, we need to apply toarrray() method over it. And before printing out this count_matrix, let us first print out the feature list(or, word list), which have been fed to our CountVectorizer() object."
   ]
  },
  {
   "cell_type": "code",
   "execution_count": 21,
   "id": "fbe57056-b877-440e-a9ac-032b0d72bc9b",
   "metadata": {},
   "outputs": [],
   "source": [
    "text = [\"London Paris London\", \"Paris Paris London\"]"
   ]
  },
  {
   "cell_type": "markdown",
   "id": "fd745cae-649f-40f1-b185-c91b46b7b5cc",
   "metadata": {},
   "source": [
    "we need to find a way to represent these texts as vectors. The CountVectorizer() class from sklearn.feature_extraction.text library can do this for us. We need to import this library before we can create a new CountVectorizer() object."
   ]
  },
  {
   "cell_type": "code",
   "execution_count": 23,
   "id": "c3fdfee1-ea1e-4c0d-99af-15ba06568317",
   "metadata": {},
   "outputs": [],
   "source": [
    "cv = CountVectorizer()"
   ]
  },
  {
   "cell_type": "code",
   "execution_count": 25,
   "id": "be43773a-8535-4277-9eb5-5b16db672044",
   "metadata": {},
   "outputs": [],
   "source": [
    "count_matrix = cv.fit_transform(text)"
   ]
  },
  {
   "cell_type": "code",
   "execution_count": 27,
   "id": "34f20e48-2441-42aa-ba28-1858cfca53d4",
   "metadata": {},
   "outputs": [
    {
     "name": "stdout",
     "output_type": "stream",
     "text": [
      "  (0, 0)\t2\n",
      "  (0, 1)\t1\n",
      "  (1, 0)\t1\n",
      "  (1, 1)\t2\n"
     ]
    }
   ],
   "source": [
    "print(count_matrix)"
   ]
  },
  {
   "cell_type": "code",
   "execution_count": 29,
   "id": "f30a4a15-0bda-4ad1-8d30-55a0a97658e1",
   "metadata": {},
   "outputs": [
    {
     "name": "stdout",
     "output_type": "stream",
     "text": [
      "[[2 1]\n",
      " [1 2]]\n"
     ]
    }
   ],
   "source": [
    "print(count_matrix.toarray())"
   ]
  },
  {
   "cell_type": "markdown",
   "id": "9d1880b6-7265-478b-8654-0d1b4be2cff8",
   "metadata": {},
   "source": [
    "This indicates that the word ‘london’ occurs 2 times in A and 1 time in B. Similarly, the word ‘paris’ occurs 1 time in A and 2 times in B. Makes sense. Right?\n",
    "\n",
    "Now, we need to find cosine(or “cos”) similarity between these vectors to find out how similar they are from each other. We can calculate this using cosine_similarity() function from sklearn.metrics.pairwise library."
   ]
  },
  {
   "cell_type": "code",
   "execution_count": 31,
   "id": "70fb7dc8-6875-49ec-ae1a-2b50de715bf2",
   "metadata": {},
   "outputs": [],
   "source": [
    "similarity_scores = cosine_similarity(count_matrix)"
   ]
  },
  {
   "cell_type": "code",
   "execution_count": 33,
   "id": "8c34b33c-8388-4fea-8b77-fcafe585f0ad",
   "metadata": {},
   "outputs": [
    {
     "name": "stdout",
     "output_type": "stream",
     "text": [
      "[[1.  0.8]\n",
      " [0.8 1. ]]\n"
     ]
    }
   ],
   "source": [
    "print(similarity_scores)"
   ]
  },
  {
   "cell_type": "markdown",
   "id": "962ba442-8071-4598-be52-10524b169645",
   "metadata": {},
   "source": [
    "Each row of the similarity matrix indicates each sentence of our input. So, row 0 = Text A and row 1 = Text B.\n",
    "\n",
    "The same thing applies for columns. To get a better understanding over this, we can say that the output given above is same as the following"
   ]
  },
  {
   "cell_type": "markdown",
   "id": "c6b44ee4-41b8-4649-a266-87cb916d771d",
   "metadata": {},
   "source": [
    "Interpreting this, says that Text A is similar to Text A(itself) by 100%(position [0,0]) and Text A is similar to Text B by 80%(position [0,1]). And by looking at the kind of output it is giving, we can easily say that this is always going to output a symmetric matrix. Because, if Text A is similar to Text B by 80% then, Text B is also going to be similar to Text A by 80%.\n",
    "Now we know how to find similarity between contents. So, let’s try to apply this knowledge to build a content based movie recommendation engine."
   ]
  },
  {
   "cell_type": "markdown",
   "id": "7e6a083e-64d8-457e-9aba-dc69003d9db1",
   "metadata": {},
   "source": [
    "# Building the recommendation engine:"
   ]
  },
  {
   "cell_type": "markdown",
   "id": "65f6d015-598e-4726-b0f1-5228b0251be5",
   "metadata": {},
   "source": [
    "# import all the required libraries"
   ]
  },
  {
   "cell_type": "code",
   "execution_count": 43,
   "id": "a6a38c1c-4824-4c51-a180-993d41cb6d77",
   "metadata": {},
   "outputs": [],
   "source": [
    "import pandas as pd\n",
    "import numpy as np\n",
    "from sklearn.feature_extraction.text import CountVectorizer\n",
    "from sklearn.metrics.pairwise import cosine_similarity"
   ]
  },
  {
   "cell_type": "code",
   "execution_count": 69,
   "id": "8f9e3734-44b8-4905-81de-6bbd515864ab",
   "metadata": {},
   "outputs": [],
   "source": [
    "df = pd.read_csv(r\"C:\\Users\\ASUS\\Downloads\\movie_dataset.csv\")"
   ]
  },
  {
   "cell_type": "code",
   "execution_count": 73,
   "id": "2a7f625a-6b9e-477b-a19f-13dbc4d262eb",
   "metadata": {},
   "outputs": [
    {
     "name": "stdout",
     "output_type": "stream",
     "text": [
      "Index(['index', 'budget', 'genres', 'homepage', 'id', 'keywords',\n",
      "       'original_language', 'original_title', 'overview', 'popularity',\n",
      "       'production_companies', 'production_countries', 'release_date',\n",
      "       'revenue', 'runtime', 'spoken_languages', 'status', 'tagline', 'title',\n",
      "       'vote_average', 'vote_count', 'cast', 'crew', 'director'],\n",
      "      dtype='object')\n"
     ]
    }
   ],
   "source": [
    "print (df.columns)"
   ]
  },
  {
   "cell_type": "code",
   "execution_count": 75,
   "id": "79ee04cd-f168-4127-ab66-ab13b95b08d0",
   "metadata": {},
   "outputs": [],
   "source": [
    "features = ['keywords','cast','genres','director']"
   ]
  },
  {
   "cell_type": "markdown",
   "id": "c621d1bc-1dd6-4df8-8159-86e054c929be",
   "metadata": {},
   "source": [
    "Our next task is to create a function for combining the values of these columns into a single string."
   ]
  },
  {
   "cell_type": "code",
   "execution_count": 77,
   "id": "ac42d816-7d27-49f2-801d-641adf55d480",
   "metadata": {},
   "outputs": [],
   "source": [
    "def combine_features(row):\n",
    "    return row['keywords']+\" \"+row['cast']+\" \"+row['genres']+\" \"+row['director']"
   ]
  },
  {
   "cell_type": "code",
   "execution_count": 79,
   "id": "b1754f4e-4360-4777-9150-1f02a403b842",
   "metadata": {},
   "outputs": [],
   "source": [
    "for feature in features:\n",
    "    df[feature] = df[feature].fillna('') \n",
    "\n",
    "df[\"combined_features\"] = df.apply(combine_features,axis=1)"
   ]
  },
  {
   "cell_type": "code",
   "execution_count": 89,
   "id": "f9f5cfcc-f784-42da-aadb-04104921dad5",
   "metadata": {},
   "outputs": [
    {
     "name": "stdout",
     "output_type": "stream",
     "text": [
      "Combined Features: 0    culture clash future space war space colony so...\n",
      "1    ocean drug abuse exotic island east india trad...\n",
      "2    spy based on novel secret agent sequel mi6 Dan...\n",
      "3    dc comics crime fighter terrorist secret ident...\n",
      "4    based on novel mars medallion space travel pri...\n",
      "Name: combined_features, dtype: object\n"
     ]
    }
   ],
   "source": [
    "print(\"Combined Features:\", df[\"combined_features\"].head())"
   ]
  },
  {
   "cell_type": "code",
   "execution_count": 81,
   "id": "c34d603d-8bf7-4c99-8100-7c233f69af33",
   "metadata": {},
   "outputs": [
    {
     "data": {
      "text/plain": [
       "'culture clash future space war space colony society Sam Worthington Zoe Saldana Sigourney Weaver Stephen Lang Michelle Rodriguez Action Adventure Fantasy Science Fiction James Cameron'"
      ]
     },
     "execution_count": 81,
     "metadata": {},
     "output_type": "execute_result"
    }
   ],
   "source": [
    "df.iloc[0].combined_features"
   ]
  },
  {
   "cell_type": "markdown",
   "id": "3f503b83-3ecf-49d8-9293-00d2c8ddeb50",
   "metadata": {},
   "source": [
    "Now that we have obtained the combined strings, we can now feed these strings to a CountVectorizer() object for getting the count matrix."
   ]
  },
  {
   "cell_type": "code",
   "execution_count": 91,
   "id": "c8d8c539-13b2-4e7f-9e16-f703a8f377ec",
   "metadata": {},
   "outputs": [],
   "source": [
    "cv = CountVectorizer() \n",
    "count_matrix = cv.fit_transform(df[\"combined_features\"])"
   ]
  },
  {
   "cell_type": "code",
   "execution_count": 93,
   "id": "6dbba1f5-894e-461c-bff4-9b6d66c59c0e",
   "metadata": {},
   "outputs": [
    {
     "name": "stdout",
     "output_type": "stream",
     "text": [
      "(4803, 14845)\n"
     ]
    }
   ],
   "source": [
    "print(count_matrix.shape)"
   ]
  },
  {
   "cell_type": "code",
   "execution_count": 59,
   "id": "59922fe7-1377-49fd-b185-b23016c44f3c",
   "metadata": {},
   "outputs": [],
   "source": [
    "cosine_sim = cosine_similarity(count_matrix)"
   ]
  },
  {
   "cell_type": "code",
   "execution_count": 61,
   "id": "4422f2ea-0651-4181-bfbe-ec152a285f2f",
   "metadata": {},
   "outputs": [],
   "source": [
    "def get_title_from_index(index):\n",
    "    return df[df.index == index][\"title\"].values[0]\n",
    "def get_index_from_title(title):\n",
    "    return df[df.title == title][\"index\"].values[0]"
   ]
  },
  {
   "cell_type": "code",
   "execution_count": 63,
   "id": "5aec7d48-19c1-4e4a-8b1c-555db876b349",
   "metadata": {},
   "outputs": [],
   "source": [
    "movie_user_likes = \"Avatar\"\n",
    "movie_index = get_index_from_title(movie_user_likes)\n",
    "similar_movies = list(enumerate(cosine_sim[movie_index]))"
   ]
  },
  {
   "cell_type": "code",
   "execution_count": 65,
   "id": "7e34fb29-4412-4a62-b51a-4ccfa442e6a7",
   "metadata": {},
   "outputs": [],
   "source": [
    "sorted_similar_movies = sorted(similar_movies,key=lambda x:x[1],reverse=True)[1:]"
   ]
  },
  {
   "cell_type": "code",
   "execution_count": 67,
   "id": "66204cc8-6a5c-416e-8be4-7c77bf682976",
   "metadata": {},
   "outputs": [
    {
     "name": "stdout",
     "output_type": "stream",
     "text": [
      "Top 5 similar movies to Avatar are:\n",
      "\n",
      "Guardians of the Galaxy\n",
      "Aliens\n",
      "Star Wars: Clone Wars: Volume 1\n",
      "Star Trek Into Darkness\n",
      "Star Trek Beyond\n",
      "Alien\n"
     ]
    }
   ],
   "source": [
    "i=0\n",
    "print(\"Top 5 similar movies to \"+movie_user_likes+\" are:\\n\")\n",
    "for element in sorted_similar_movies:\n",
    "    print(get_title_from_index(element[0]))\n",
    "    i=i+1\n",
    "    if i>5:\n",
    "        break"
   ]
  },
  {
   "cell_type": "code",
   "execution_count": null,
   "id": "4b74def4-65a8-4be7-b08d-429eb871466a",
   "metadata": {},
   "outputs": [],
   "source": []
  }
 ],
 "metadata": {
  "kernelspec": {
   "display_name": "Python 3 (ipykernel)",
   "language": "python",
   "name": "python3"
  },
  "language_info": {
   "codemirror_mode": {
    "name": "ipython",
    "version": 3
   },
   "file_extension": ".py",
   "mimetype": "text/x-python",
   "name": "python",
   "nbconvert_exporter": "python",
   "pygments_lexer": "ipython3",
   "version": "3.12.4"
  }
 },
 "nbformat": 4,
 "nbformat_minor": 5
}
